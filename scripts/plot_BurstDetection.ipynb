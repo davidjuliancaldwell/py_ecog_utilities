{
  "cells": [
    {
      "cell_type": "markdown",
      "metadata": {},
      "source": [
        "\n",
        "# Burst Detection\n",
        "\n",
        "Analyze neural signals for bursts of oscillations of interest.\n",
        "\n",
        "This tutorial primarily covers the ``neurodsp.burst`` module.\n"
      ]
    },
    {
      "cell_type": "code",
      "execution_count": null,
      "metadata": {
        "collapsed": false
      },
      "outputs": [],
      "source": [
        "# Import burst detection functions\n",
        "from neurodsp.burst import detect_bursts_dual_threshold, compute_burst_stats\n",
        "\n",
        "# Import simulation code for creating test data\n",
        "from neurodsp.sim import sim_combined\n",
        "from neurodsp.utils import set_random_seed, create_times\n",
        "\n",
        "# Import utilities for loading and plotting data\n",
        "from neurodsp.utils.download import load_ndsp_data\n",
        "from neurodsp.plts.time_series import plot_time_series, plot_bursts"
      ]
    },
    {
      "cell_type": "code",
      "execution_count": null,
      "metadata": {
        "collapsed": false
      },
      "outputs": [],
      "source": [
        "# Set the random seed, for consistency simulating data\n",
        "set_random_seed(0)"
      ]
    },
    {
      "cell_type": "markdown",
      "metadata": {},
      "source": [
        "## Simulate a Bursty Oscillation\n",
        "\n",
        "First, we'll simulate a combined signal with a bursty oscillation in the alpha range,\n",
        "with an aperiodic component.\n",
        "\n",
        "\n"
      ]
    },
    {
      "cell_type": "code",
      "execution_count": null,
      "metadata": {
        "collapsed": false
      },
      "outputs": [],
      "source": [
        "# Simulation settings\n",
        "fs = 1000\n",
        "n_seconds = 5\n",
        "\n",
        "# Define simulation components\n",
        "components = {'sim_synaptic_current' : {'n_neurons':1000, 'firing_rate':2,\n",
        "                                        't_ker':1.0, 'tau_r':0.002, 'tau_d':0.02},\n",
        "              'sim_bursty_oscillation' : {'freq' : 10, 'enter_burst' : .2, 'leave_burst' : .2}}\n",
        "\n",
        "# Simulate a signal with a bursty oscillation with an aperiodic component & a time vector\n",
        "sig = sim_combined(n_seconds, fs, components)\n",
        "times = create_times(n_seconds, fs)"
      ]
    },
    {
      "cell_type": "code",
      "execution_count": null,
      "metadata": {
        "collapsed": false
      },
      "outputs": [],
      "source": [
        "# Plot the simulated data\n",
        "plot_time_series(times, sig, 'Simulated EEG')"
      ]
    },
    {
      "cell_type": "markdown",
      "metadata": {},
      "source": [
        "In the simulated signal above, we can see some bursty 10 Hz oscillations.\n",
        "\n",
        "\n"
      ]
    },
    {
      "cell_type": "markdown",
      "metadata": {},
      "source": [
        "## Dual Amplitude Threshold Algorithm\n",
        "\n",
        "First, let's use the dual-amplitude threshold algorithm for burst detection, which\n",
        "we can use with the :func:`~.detect_bursts_dual_threshold` function.\n",
        "\n",
        "This algorithm first computes the amplitude at each point in time for a given\n",
        "frequency range. This amplitude is then normalized by the average (default: median)\n",
        "amplitude of the whole time series. Two thresholds are defined based off of this\n",
        "normalized amplitude. In order for a burst to be detected, the amplitude must cross\n",
        "the higher amplitude threshold. The burst lasts until the amplitude then falls below\n",
        "the lower amplitude threshold.\n",
        "\n",
        "**Other Parameters**\n",
        "\n",
        "- `avg_type`: used to set the average for normalization to either 'median' or 'mean'\n",
        "- `magnitude_type`: used to set the metric for thresholding, to 'amplitude' or 'power'\n",
        "\n",
        "\n"
      ]
    },
    {
      "cell_type": "code",
      "execution_count": null,
      "metadata": {
        "collapsed": false
      },
      "outputs": [],
      "source": [
        "# Settings for the dual threshold algorithm\n",
        "amp_dual_thresh = (1, 2)\n",
        "f_range = (8, 12)\n",
        "\n",
        "# Detect bursts using dual threshold algorithm\n",
        "bursting = detect_bursts_dual_threshold(sig, fs, amp_dual_thresh, f_range)"
      ]
    },
    {
      "cell_type": "markdown",
      "metadata": {},
      "source": [
        "You can plot detected bursts using :func:`~.plot_bursts`.\n",
        "\n",
        "\n"
      ]
    },
    {
      "cell_type": "code",
      "execution_count": null,
      "metadata": {
        "collapsed": false
      },
      "outputs": [],
      "source": [
        "# Plot original signal and burst activity\n",
        "plot_bursts(times, sig, bursting, labels=['Simulated EEG', 'Detected Burst'])"
      ]
    },
    {
      "cell_type": "markdown",
      "metadata": {},
      "source": [
        "The graph above shows the bursting activity in red.\n",
        "\n",
        "The algorithm was used with thresh=(1, 2), so any time point with more than 3 times the\n",
        "median magnitude in the alpha range (8-12 Hz) was marked as bursting activity.\n",
        "\n",
        "\n"
      ]
    },
    {
      "cell_type": "markdown",
      "metadata": {},
      "source": [
        "### Checking Burst Statistics\n",
        "\n",
        "Once you have detected bursts, you can calculate some statistics on those bursts with\n",
        ":func:`~.detect_bursts_dual_threshold`.\n",
        "\n",
        "\n"
      ]
    },
    {
      "cell_type": "code",
      "execution_count": null,
      "metadata": {
        "collapsed": false
      },
      "outputs": [],
      "source": [
        "# Compute burst statistics\n",
        "burst_stats = compute_burst_stats(bursting, fs)\n",
        "\n",
        "# Print out burst statistic information\n",
        "for key, val in burst_stats.items():\n",
        "    print('{:15} \\t: {}'.format(key, val))"
      ]
    },
    {
      "cell_type": "markdown",
      "metadata": {},
      "source": [
        "## Burst Detection on Real Data\n",
        "\n",
        "Next up, we'll load a sample of real neural data, and try out the burst detection.\n",
        "\n",
        "\n"
      ]
    },
    {
      "cell_type": "code",
      "execution_count": null,
      "metadata": {
        "collapsed": false
      },
      "outputs": [],
      "source": [
        "# Download, if needed, and load example data file\n",
        "sig = load_ndsp_data('sample_data_1.npy', folder='data')\n",
        "\n",
        "# Set sampling rate, and create a times vector for plotting\n",
        "fs = 1000\n",
        "times = create_times(len(sig)/fs, fs)"
      ]
    },
    {
      "cell_type": "code",
      "execution_count": null,
      "metadata": {
        "collapsed": false
      },
      "outputs": [],
      "source": [
        "# Set the frequency range to look for bursts\n",
        "f_range = (8, 12)\n",
        "\n",
        "# Detect bursts using the dual threshold algorithm\n",
        "bursting = detect_bursts_dual_threshold(sig, fs, (3, 3), f_range)"
      ]
    },
    {
      "cell_type": "code",
      "execution_count": null,
      "metadata": {
        "collapsed": false
      },
      "outputs": [],
      "source": [
        "# Plot original signal and burst activity\n",
        "plot_bursts(times, sig, bursting, labels=['Data', 'Detected Burst'])"
      ]
    },
    {
      "cell_type": "markdown",
      "metadata": {},
      "source": [
        "No bursts were detected! There could be a number of reasons for this.\n",
        "One of the easy things to do is to adjust the parameters for burst detection.\n",
        "\n",
        "Let's try making the thresholds lower.\n",
        "\n",
        "\n"
      ]
    },
    {
      "cell_type": "code",
      "execution_count": null,
      "metadata": {
        "collapsed": false
      },
      "outputs": [],
      "source": [
        "# Detect bursts using dual threshold algorithm\n",
        "bursting = detect_bursts_dual_threshold(sig, fs, (1, 2), f_range)\n",
        "\n",
        "# Plot original signal and burst activity\n",
        "plot_bursts(times, sig, bursting, labels=['Data', 'Detected Burst'])"
      ]
    },
    {
      "cell_type": "markdown",
      "metadata": {},
      "source": [
        "Better, but not very good. Note the undetected cycles just before 9s.\n",
        "\n",
        "There's another serious issue: we're looking for alpha bursts,\n",
        "but the bursts in this data are *beta* bursts.\n",
        "\n",
        "\n"
      ]
    },
    {
      "cell_type": "code",
      "execution_count": null,
      "metadata": {
        "collapsed": false
      },
      "outputs": [],
      "source": [
        "# Detect bursts\n",
        "bursting = detect_bursts_dual_threshold(sig, fs, (1, 2), (13, 30))\n",
        "\n",
        "# Plot original signal and burst activity\n",
        "plot_bursts(times, sig, bursting, labels=['Data', 'Detected Burst'])"
      ]
    },
    {
      "cell_type": "markdown",
      "metadata": {},
      "source": [
        "Much better! This just goes to show that burst detection is an art that\n",
        "requires some knowledge of the data you're working with.\n",
        "\n",
        "Finally, we can again check our burst statistics.\n",
        "\n",
        "\n"
      ]
    },
    {
      "cell_type": "code",
      "execution_count": null,
      "metadata": {
        "collapsed": false
      },
      "outputs": [],
      "source": [
        "# Compute burst statistics\n",
        "burst_stats = compute_burst_stats(bursting, fs)\n",
        "\n",
        "# Print out burst statistic information\n",
        "for key, val in burst_stats.items():\n",
        "    print('{:15} \\t: {}'.format(key, val))"
      ]
    }
  ],
  "metadata": {
    "kernelspec": {
      "display_name": "mne_3_12",
      "language": "python",
      "name": "python3"
    },
    "language_info": {
      "codemirror_mode": {
        "name": "ipython",
        "version": 3
      },
      "file_extension": ".py",
      "mimetype": "text/x-python",
      "name": "python",
      "nbconvert_exporter": "python",
      "pygments_lexer": "ipython3",
      "version": "3.12.0"
    }
  },
  "nbformat": 4,
  "nbformat_minor": 0
}
