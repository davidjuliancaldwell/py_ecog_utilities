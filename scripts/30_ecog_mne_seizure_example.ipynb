{
  "cells": [
    {
      "cell_type": "markdown",
      "metadata": {},
      "source": [
        "\n",
        "\n",
        "# Working with ECoG data\n",
        "\n",
        "MNE supports working with more than just MEG and EEG data. Here we show some of the\n",
        "functions that can be used to facilitate working with electrocorticography (ECoG) data.\n",
        "\n",
        "This example shows how to use:\n",
        "\n",
        "- ECoG data ([available here](https://openneuro.org/datasets/ds003029)_) from\n",
        "  an epilepsy patient during a seizure\n",
        "- channel locations in FreeSurfer's ``fsaverage`` MRI space\n",
        "- projection onto a pial surface\n",
        "\n",
        "For a complementary example that involves sEEG data, channel locations in MNI\n",
        "space, or projection into a volume, see `tut-working-with-seeg`.\n",
        "\n",
        "Please note that this tutorial requires 3D plotting dependencies (see\n",
        "`manual-install`) as well as ``mne-bids`` which can be installed using\n",
        "``pip``.\n"
      ]
    },
    {
      "cell_type": "code",
      "execution_count": null,
      "metadata": {
        "collapsed": false
      },
      "outputs": [],
      "source": [
        "# Authors: Eric Larson <larson.eric.d@gmail.com>\n",
        "#          Chris Holdgraf <choldgraf@gmail.com>\n",
        "#          Adam Li <adam2392@gmail.com>\n",
        "#          Alex Rockhill <aprockhill@mailbox.org>\n",
        "#          Liberty Hamilton <libertyhamilton@gmail.com>\n",
        "#\n",
        "# License: BSD-3-Clause\n",
        "# Copyright the MNE-Python contributors."
      ]
    },
    {
      "cell_type": "code",
      "execution_count": null,
      "metadata": {
        "collapsed": false
      },
      "outputs": [],
      "source": [
        "import matplotlib.pyplot as plt\n",
        "import numpy as np\n",
        "from matplotlib import colormaps\n",
        "from mne_bids import BIDSPath, read_raw_bids\n",
        "\n",
        "import mne\n",
        "from mne.viz import plot_alignment, snapshot_brain_montage\n",
        "\n",
        "print(__doc__)\n",
        "\n",
        "# paths to mne datasets - sample ECoG and FreeSurfer subject\n",
        "bids_root = mne.datasets.epilepsy_ecog.data_path()\n",
        "sample_path = mne.datasets.sample.data_path()\n",
        "subjects_dir = sample_path / \"subjects\""
      ]
    },
    {
      "cell_type": "markdown",
      "metadata": {},
      "source": [
        "## Load in data and perform basic preprocessing\n",
        "\n",
        "Let's load some ECoG electrode data with `MNE-BIDS`_.\n",
        "\n",
        "<div class=\"alert alert-info\"><h4>Note</h4><p>Downsampling is just to save execution time in this example, you should\n",
        "    not need to do this in general!</p></div>\n",
        "\n"
      ]
    },
    {
      "cell_type": "code",
      "execution_count": null,
      "metadata": {
        "collapsed": false
      },
      "outputs": [],
      "source": [
        "# first define the bids path\n",
        "bids_path = BIDSPath(\n",
        "    root=bids_root,\n",
        "    subject=\"pt1\",\n",
        "    session=\"presurgery\",\n",
        "    task=\"ictal\",\n",
        "    datatype=\"ieeg\",\n",
        "    extension=\".vhdr\",\n",
        ")\n",
        "\n",
        "# Then we'll use it to load in the sample dataset. This function changes the\n",
        "# units of some channels, so we suppress a related warning here by using\n",
        "# verbose='error'.\n",
        "raw = read_raw_bids(bids_path=bids_path, verbose=\"error\")\n",
        "\n",
        "# Pick only the ECoG channels, removing the EKG channels\n",
        "raw.pick(picks=\"ecog\")\n",
        "\n",
        "# Load the data\n",
        "raw.load_data()\n",
        "\n",
        "# Then we remove line frequency interference\n",
        "raw.notch_filter([60], trans_bandwidth=3)\n",
        "\n",
        "# drop bad channels\n",
        "raw.drop_channels(raw.info[\"bads\"])\n",
        "\n",
        "# the coordinate frame of the montage\n",
        "montage = raw.get_montage()\n",
        "print(montage.get_positions()[\"coord_frame\"])\n",
        "\n",
        "# add fiducials to montage\n",
        "montage.add_mni_fiducials(subjects_dir)\n",
        "\n",
        "# now with fiducials assigned, the montage will be properly converted\n",
        "# to \"head\" which is what MNE requires internally (this is the coordinate\n",
        "# system with the origin between LPA and RPA whereas MNI has the origin\n",
        "# at the posterior commissure)\n",
        "raw.set_montage(montage)\n",
        "\n",
        "# Make a 25 second epoch that spans before and after the seizure onset\n",
        "epoch_length = 25  # seconds\n",
        "epochs = mne.Epochs(\n",
        "    raw,\n",
        "    event_id=\"onset\",\n",
        "    tmin=13,\n",
        "    tmax=13 + epoch_length,\n",
        "    baseline=None,\n",
        ")\n",
        "# Make evoked from the one epoch and resample\n",
        "evoked = epochs.average().resample(200)\n",
        "del epochs"
      ]
    },
    {
      "cell_type": "markdown",
      "metadata": {},
      "source": [
        "## Explore the electrodes on a template brain\n",
        "\n",
        "Our electrodes are shown after being morphed to fsaverage brain so we'll use\n",
        "this fsaverage brain to plot the locations of our electrodes. We'll use\n",
        ":func:`~mne.viz.snapshot_brain_montage` to save the plot as image data\n",
        "(along with xy positions of each electrode in the image), so that later\n",
        "we can plot frequency band power on top of it.\n",
        "\n"
      ]
    },
    {
      "cell_type": "code",
      "execution_count": null,
      "metadata": {
        "collapsed": false
      },
      "outputs": [],
      "source": [
        "fig = plot_alignment(\n",
        "    raw.info,\n",
        "    trans=\"fsaverage\",\n",
        "    subject=\"fsaverage\",\n",
        "    subjects_dir=subjects_dir,\n",
        "    surfaces=[\"pial\"],\n",
        "    coord_frame=\"head\",\n",
        "    sensor_colors=(1.0, 1.0, 1.0, 0.5),\n",
        ")\n",
        "mne.viz.set_3d_view(fig, azimuth=0, elevation=70, focalpoint=\"auto\", distance=\"auto\")\n",
        "\n",
        "xy, im = snapshot_brain_montage(fig, raw.info)"
      ]
    },
    {
      "cell_type": "markdown",
      "metadata": {},
      "source": [
        "## Compute frequency features of the data\n",
        "\n",
        "Next, we'll compute the signal power in the gamma (30-90 Hz) band,\n",
        "downsampling the result to 10 Hz (to save time).\n",
        "\n"
      ]
    },
    {
      "cell_type": "code",
      "execution_count": null,
      "metadata": {
        "collapsed": false
      },
      "outputs": [],
      "source": [
        "sfreq = 10\n",
        "gamma_power_t = (\n",
        "    evoked.copy().filter(30, 90).apply_hilbert(envelope=True).resample(sfreq)\n",
        ")\n",
        "gamma_info = gamma_power_t.info"
      ]
    },
    {
      "cell_type": "markdown",
      "metadata": {},
      "source": [
        "## Plot Gamma Power on cortical sensors\n",
        "\n",
        "We will now use evoked gamma power to plot on the cortical surface.\n",
        "Therefore we extract the evoked time sample at 15s and normalize\n",
        "it in a range of 0 to 1 in order to map it using a matplotlib colormap.\n",
        "\n"
      ]
    },
    {
      "cell_type": "code",
      "execution_count": null,
      "metadata": {
        "collapsed": false
      },
      "outputs": [],
      "source": [
        "gamma_power_at_15s = gamma_power_t.to_data_frame(index=\"time\").loc[15]\n",
        "# scale values to be between 0 and 1, then map to colors\n",
        "gamma_power_at_15s -= gamma_power_at_15s.min()\n",
        "gamma_power_at_15s /= gamma_power_at_15s.max()\n",
        "rgba = colormaps.get_cmap(\"viridis\")\n",
        "sensor_colors = np.array(gamma_power_at_15s.map(rgba).tolist(), float)\n",
        "sensor_colors[:, 3] = 0.5\n",
        "\n",
        "fig = plot_alignment(\n",
        "    raw.info,\n",
        "    trans=\"fsaverage\",\n",
        "    subject=\"fsaverage\",\n",
        "    subjects_dir=subjects_dir,\n",
        "    surfaces=[\"pial\"],\n",
        "    coord_frame=\"head\",\n",
        "    sensor_colors=sensor_colors,\n",
        ")\n",
        "\n",
        "mne.viz.set_3d_view(fig, azimuth=0, elevation=70, focalpoint=\"auto\", distance=\"auto\")\n",
        "\n",
        "xy, im = snapshot_brain_montage(fig, raw.info)"
      ]
    },
    {
      "cell_type": "markdown",
      "metadata": {},
      "source": [
        "## Visualize the time-evolution of the gamma power on the brain\n",
        "\n",
        "Say we want to visualize the evolution of the power in the gamma band,\n",
        "instead of just plotting the average. We can use\n",
        "`matplotlib.animation.FuncAnimation` to create an animation and apply this\n",
        "to the brain figure.\n",
        "\n"
      ]
    },
    {
      "cell_type": "code",
      "execution_count": null,
      "metadata": {
        "collapsed": false
      },
      "outputs": [],
      "source": [
        "# convert from a dictionary to array to plot\n",
        "xy_pts = np.vstack([xy[ch] for ch in raw.info[\"ch_names\"]])\n",
        "\n",
        "# get a colormap to color nearby points similar colors\n",
        "cmap = plt.colormaps[\"viridis\"]\n",
        "\n",
        "# create the figure of the brain with the electrode positions\n",
        "fig, ax = plt.subplots(figsize=(5, 5))\n",
        "ax.set_title(\"Gamma power over time\", size=\"large\")\n",
        "ax.imshow(im)\n",
        "ax.set_axis_off()\n",
        "\n",
        "# normalize gamma power for plotting\n",
        "gamma_power = -100 * gamma_power_t.data / gamma_power_t.data.max()\n",
        "# add the time course overlaid on the positions\n",
        "x_line = np.linspace(\n",
        "    -0.025 * im.shape[0], 0.025 * im.shape[0], gamma_power_t.data.shape[1]\n",
        ")\n",
        "for i, pos in enumerate(xy_pts):\n",
        "    x, y = pos\n",
        "    color = cmap(i / xy_pts.shape[0])\n",
        "    ax.plot(x_line + x, gamma_power[i] + y, linewidth=0.5, color=color)"
      ]
    },
    {
      "cell_type": "markdown",
      "metadata": {},
      "source": [
        "We can project gamma power from the sensor data to the nearest locations on\n",
        "the pial surface and visualize that:\n",
        "\n",
        "As shown in the plot, the epileptiform activity starts in the temporal lobe,\n",
        "progressing posteriorly. The seizure becomes generalized eventually, after\n",
        "this example short time section. This dataset is available using\n",
        ":func:`mne.datasets.epilepsy_ecog.data_path` for you to examine.\n",
        "\n"
      ]
    },
    {
      "cell_type": "code",
      "execution_count": null,
      "metadata": {
        "collapsed": false
      },
      "outputs": [],
      "source": [
        "xyz_pts = np.array([dig[\"r\"] for dig in evoked.info[\"dig\"]])\n",
        "\n",
        "src = mne.read_source_spaces(\n",
        "    subjects_dir / \"fsaverage\" / \"bem\" / \"fsaverage-ico-5-src.fif\"\n",
        ")\n",
        "stc = mne.stc_near_sensors(\n",
        "    gamma_power_t,\n",
        "    trans=\"fsaverage\",\n",
        "    subject=\"fsaverage\",\n",
        "    subjects_dir=subjects_dir,\n",
        "    src=src,\n",
        "    surface=\"pial\",\n",
        "    mode=\"nearest\",\n",
        "    distance=0.02,\n",
        ")\n",
        "vmin, vmid, vmax = np.percentile(gamma_power_t.data, [10, 25, 90])\n",
        "clim = dict(kind=\"value\", lims=[vmin, vmid, vmax])\n",
        "brain = stc.plot(\n",
        "    surface=\"pial\",\n",
        "    hemi=\"rh\",\n",
        "    colormap=\"inferno\",\n",
        "    colorbar=False,\n",
        "    clim=clim,\n",
        "    views=[\"lat\", \"med\"],\n",
        "    subjects_dir=subjects_dir,\n",
        "    size=(250, 250),\n",
        "    smoothing_steps=\"nearest\",\n",
        "    time_viewer=False,\n",
        ")\n",
        "brain.add_sensors(raw.info, trans=\"fsaverage\")\n",
        "del brain\n",
        "\n",
        "# You can save a movie like the one on our documentation website with:\n",
        "# brain.save_movie(time_dilation=1, interpolation='linear', framerate=3,\n",
        "#                  time_viewer=True)"
      ]
    }
  ],
  "metadata": {
    "kernelspec": {
      "display_name": "Python 3",
      "language": "python",
      "name": "python3"
    },
    "language_info": {
      "codemirror_mode": {
        "name": "ipython",
        "version": 3
      },
      "file_extension": ".py",
      "mimetype": "text/x-python",
      "name": "python",
      "nbconvert_exporter": "python",
      "pygments_lexer": "ipython3",
      "version": "3.12.3"
    }
  },
  "nbformat": 4,
  "nbformat_minor": 0
}
